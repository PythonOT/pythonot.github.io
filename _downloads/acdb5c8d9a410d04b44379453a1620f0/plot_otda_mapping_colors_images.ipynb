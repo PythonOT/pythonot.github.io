{
  "cells": [
    {
      "cell_type": "code",
      "execution_count": null,
      "metadata": {
        "collapsed": false
      },
      "outputs": [],
      "source": [
        "%matplotlib inline"
      ]
    },
    {
      "cell_type": "markdown",
      "metadata": {},
      "source": [
        "\n# OT for image color adaptation with mapping estimation\n\nOT for domain adaptation with image color adaptation [6] with mapping\nestimation [8].\n\n[6] Ferradans, S., Papadakis, N., Peyre, G., & Aujol, J. F. (2014). Regularized\ndiscrete optimal transport. SIAM Journal on Imaging Sciences, 7(3), 1853-1882.\n\n[8] M. Perrot, N. Courty, R. Flamary, A. Habrard, \"Mapping estimation for\ndiscrete optimal transport\", Neural Information Processing Systems (NIPS), 2016.\n"
      ]
    },
    {
      "cell_type": "code",
      "execution_count": null,
      "metadata": {
        "collapsed": false
      },
      "outputs": [],
      "source": [
        "# Authors: Remi Flamary <remi.flamary@unice.fr>\n#          Stanislas Chambon <stan.chambon@gmail.com>\n#\n# License: MIT License\n\n# sphinx_gallery_thumbnail_number = 3\nimport os\nfrom pathlib import Path\n\nimport numpy as np\nfrom matplotlib import pyplot as plt\nimport ot\n\nrng = np.random.RandomState(42)\n\n\ndef im2mat(img):\n    \"\"\"Converts and image to matrix (one pixel per line)\"\"\"\n    return img.reshape((img.shape[0] * img.shape[1], img.shape[2]))\n\n\ndef mat2im(X, shape):\n    \"\"\"Converts back a matrix to an image\"\"\"\n    return X.reshape(shape)\n\n\ndef minmax(img):\n    return np.clip(img, 0, 1)"
      ]
    },
    {
      "cell_type": "markdown",
      "metadata": {},
      "source": [
        "## Generate data\n\n"
      ]
    },
    {
      "cell_type": "code",
      "execution_count": null,
      "metadata": {
        "collapsed": false
      },
      "outputs": [],
      "source": [
        "# Loading images\nthis_file = os.path.realpath('__file__')\ndata_path = os.path.join(Path(this_file).parent.parent.parent, 'data')\n\nI1 = plt.imread(os.path.join(data_path, 'ocean_day.jpg')).astype(np.float64) / 256\nI2 = plt.imread(os.path.join(data_path, 'ocean_sunset.jpg')).astype(np.float64) / 256\n\nX1 = im2mat(I1)\nX2 = im2mat(I2)\n\n# training samples\nnb = 500\nidx1 = rng.randint(X1.shape[0], size=(nb,))\nidx2 = rng.randint(X2.shape[0], size=(nb,))\n\nXs = X1[idx1, :]\nXt = X2[idx2, :]"
      ]
    },
    {
      "cell_type": "markdown",
      "metadata": {},
      "source": [
        "## Domain adaptation for pixel distribution transfer\n\n"
      ]
    },
    {
      "cell_type": "code",
      "execution_count": null,
      "metadata": {
        "collapsed": false
      },
      "outputs": [],
      "source": [
        "# EMDTransport\not_emd = ot.da.EMDTransport()\not_emd.fit(Xs=Xs, Xt=Xt)\ntransp_Xs_emd = ot_emd.transform(Xs=X1)\nImage_emd = minmax(mat2im(transp_Xs_emd, I1.shape))\n\n# SinkhornTransport\not_sinkhorn = ot.da.SinkhornTransport(reg_e=1e-1)\not_sinkhorn.fit(Xs=Xs, Xt=Xt)\ntransp_Xs_sinkhorn = ot_sinkhorn.transform(Xs=X1)\nImage_sinkhorn = minmax(mat2im(transp_Xs_sinkhorn, I1.shape))\n\not_mapping_linear = ot.da.MappingTransport(\n    mu=1e0, eta=1e-8, bias=True, max_iter=20, verbose=True)\not_mapping_linear.fit(Xs=Xs, Xt=Xt)\n\nX1tl = ot_mapping_linear.transform(Xs=X1)\nImage_mapping_linear = minmax(mat2im(X1tl, I1.shape))\n\not_mapping_gaussian = ot.da.MappingTransport(\n    mu=1e0, eta=1e-2, sigma=1, bias=False, max_iter=10, verbose=True)\not_mapping_gaussian.fit(Xs=Xs, Xt=Xt)\n\nX1tn = ot_mapping_gaussian.transform(Xs=X1)  # use the estimated mapping\nImage_mapping_gaussian = minmax(mat2im(X1tn, I1.shape))"
      ]
    },
    {
      "cell_type": "markdown",
      "metadata": {},
      "source": [
        "## Plot original images\n\n"
      ]
    },
    {
      "cell_type": "code",
      "execution_count": null,
      "metadata": {
        "collapsed": false
      },
      "outputs": [],
      "source": [
        "plt.figure(1, figsize=(6.4, 3))\nplt.subplot(1, 2, 1)\nplt.imshow(I1)\nplt.axis('off')\nplt.title('Image 1')\n\nplt.subplot(1, 2, 2)\nplt.imshow(I2)\nplt.axis('off')\nplt.title('Image 2')\nplt.tight_layout()"
      ]
    },
    {
      "cell_type": "markdown",
      "metadata": {},
      "source": [
        "## Plot pixel values distribution\n\n"
      ]
    },
    {
      "cell_type": "code",
      "execution_count": null,
      "metadata": {
        "collapsed": false
      },
      "outputs": [],
      "source": [
        "plt.figure(2, figsize=(6.4, 5))\n\nplt.subplot(1, 2, 1)\nplt.scatter(Xs[:, 0], Xs[:, 2], c=Xs)\nplt.axis([0, 1, 0, 1])\nplt.xlabel('Red')\nplt.ylabel('Blue')\nplt.title('Image 1')\n\nplt.subplot(1, 2, 2)\nplt.scatter(Xt[:, 0], Xt[:, 2], c=Xt)\nplt.axis([0, 1, 0, 1])\nplt.xlabel('Red')\nplt.ylabel('Blue')\nplt.title('Image 2')\nplt.tight_layout()"
      ]
    },
    {
      "cell_type": "markdown",
      "metadata": {},
      "source": [
        "## Plot transformed images\n\n"
      ]
    },
    {
      "cell_type": "code",
      "execution_count": null,
      "metadata": {
        "collapsed": false
      },
      "outputs": [],
      "source": [
        "plt.figure(2, figsize=(10, 5))\n\nplt.subplot(2, 3, 1)\nplt.imshow(I1)\nplt.axis('off')\nplt.title('Im. 1')\n\nplt.subplot(2, 3, 4)\nplt.imshow(I2)\nplt.axis('off')\nplt.title('Im. 2')\n\nplt.subplot(2, 3, 2)\nplt.imshow(Image_emd)\nplt.axis('off')\nplt.title('EmdTransport')\n\nplt.subplot(2, 3, 5)\nplt.imshow(Image_sinkhorn)\nplt.axis('off')\nplt.title('SinkhornTransport')\n\nplt.subplot(2, 3, 3)\nplt.imshow(Image_mapping_linear)\nplt.axis('off')\nplt.title('MappingTransport (linear)')\n\nplt.subplot(2, 3, 6)\nplt.imshow(Image_mapping_gaussian)\nplt.axis('off')\nplt.title('MappingTransport (gaussian)')\nplt.tight_layout()\n\nplt.show()"
      ]
    }
  ],
  "metadata": {
    "kernelspec": {
      "display_name": "Python 3",
      "language": "python",
      "name": "python3"
    },
    "language_info": {
      "codemirror_mode": {
        "name": "ipython",
        "version": 3
      },
      "file_extension": ".py",
      "mimetype": "text/x-python",
      "name": "python",
      "nbconvert_exporter": "python",
      "pygments_lexer": "ipython3",
      "version": "3.9.12"
    }
  },
  "nbformat": 4,
  "nbformat_minor": 0
}