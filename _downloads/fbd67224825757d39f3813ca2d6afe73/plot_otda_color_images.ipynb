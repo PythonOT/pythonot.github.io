{
  "cells": [
    {
      "cell_type": "code",
      "execution_count": null,
      "metadata": {
        "collapsed": false
      },
      "outputs": [],
      "source": [
        "%matplotlib inline"
      ]
    },
    {
      "cell_type": "markdown",
      "metadata": {},
      "source": [
        "\n# OT for image color adaptation\n\nThis example presents a way of transferring colors between two images\nwith Optimal Transport as introduced in [6]\n\n[6] Ferradans, S., Papadakis, N., Peyre, G., & Aujol, J. F. (2014).\nRegularized discrete optimal transport.\nSIAM Journal on Imaging Sciences, 7(3), 1853-1882.\n"
      ]
    },
    {
      "cell_type": "code",
      "execution_count": null,
      "metadata": {
        "collapsed": false
      },
      "outputs": [],
      "source": [
        "# Authors: Remi Flamary <remi.flamary@unice.fr>\n#          Stanislas Chambon <stan.chambon@gmail.com>\n#\n# License: MIT License\n\n# sphinx_gallery_thumbnail_number = 2\n\nimport os\nfrom pathlib import Path\n\nimport numpy as np\nfrom matplotlib import pyplot as plt\nimport ot\n\n\nrng = np.random.RandomState(42)\n\n\ndef im2mat(img):\n    \"\"\"Converts an image to matrix (one pixel per line)\"\"\"\n    return img.reshape((img.shape[0] * img.shape[1], img.shape[2]))\n\n\ndef mat2im(X, shape):\n    \"\"\"Converts back a matrix to an image\"\"\"\n    return X.reshape(shape)\n\n\ndef minmax(img):\n    return np.clip(img, 0, 1)"
      ]
    },
    {
      "cell_type": "markdown",
      "metadata": {},
      "source": [
        "## Generate data\n\n"
      ]
    },
    {
      "cell_type": "code",
      "execution_count": null,
      "metadata": {
        "collapsed": false
      },
      "outputs": [],
      "source": [
        "# Loading images\nthis_file = os.path.realpath('__file__')\ndata_path = os.path.join(Path(this_file).parent.parent.parent, 'data')\n\nI1 = plt.imread(os.path.join(data_path, 'ocean_day.jpg')).astype(np.float64) / 256\nI2 = plt.imread(os.path.join(data_path, 'ocean_sunset.jpg')).astype(np.float64) / 256\n\nX1 = im2mat(I1)\nX2 = im2mat(I2)\n\n# training samples\nnb = 500\nidx1 = rng.randint(X1.shape[0], size=(nb,))\nidx2 = rng.randint(X2.shape[0], size=(nb,))\n\nXs = X1[idx1, :]\nXt = X2[idx2, :]"
      ]
    },
    {
      "cell_type": "markdown",
      "metadata": {},
      "source": [
        "## Plot original image\n\n"
      ]
    },
    {
      "cell_type": "code",
      "execution_count": null,
      "metadata": {
        "collapsed": false
      },
      "outputs": [],
      "source": [
        "plt.figure(1, figsize=(6.4, 3))\n\nplt.subplot(1, 2, 1)\nplt.imshow(I1)\nplt.axis('off')\nplt.title('Image 1')\n\nplt.subplot(1, 2, 2)\nplt.imshow(I2)\nplt.axis('off')\nplt.title('Image 2')"
      ]
    },
    {
      "cell_type": "markdown",
      "metadata": {},
      "source": [
        "## Scatter plot of colors\n\n"
      ]
    },
    {
      "cell_type": "code",
      "execution_count": null,
      "metadata": {
        "collapsed": false
      },
      "outputs": [],
      "source": [
        "plt.figure(2, figsize=(6.4, 3))\n\nplt.subplot(1, 2, 1)\nplt.scatter(Xs[:, 0], Xs[:, 2], c=Xs)\nplt.axis([0, 1, 0, 1])\nplt.xlabel('Red')\nplt.ylabel('Blue')\nplt.title('Image 1')\n\nplt.subplot(1, 2, 2)\nplt.scatter(Xt[:, 0], Xt[:, 2], c=Xt)\nplt.axis([0, 1, 0, 1])\nplt.xlabel('Red')\nplt.ylabel('Blue')\nplt.title('Image 2')\nplt.tight_layout()"
      ]
    },
    {
      "cell_type": "markdown",
      "metadata": {},
      "source": [
        "## Instantiate the different transport algorithms and fit them\n\n"
      ]
    },
    {
      "cell_type": "code",
      "execution_count": null,
      "metadata": {
        "collapsed": false
      },
      "outputs": [],
      "source": [
        "# EMDTransport\not_emd = ot.da.EMDTransport()\not_emd.fit(Xs=Xs, Xt=Xt)\n\n# SinkhornTransport\not_sinkhorn = ot.da.SinkhornTransport(reg_e=1e-1)\not_sinkhorn.fit(Xs=Xs, Xt=Xt)\n\n# prediction between images (using out of sample prediction as in [6])\ntransp_Xs_emd = ot_emd.transform(Xs=X1)\ntransp_Xt_emd = ot_emd.inverse_transform(Xt=X2)\n\ntransp_Xs_sinkhorn = ot_sinkhorn.transform(Xs=X1)\ntransp_Xt_sinkhorn = ot_sinkhorn.inverse_transform(Xt=X2)\n\nI1t = minmax(mat2im(transp_Xs_emd, I1.shape))\nI2t = minmax(mat2im(transp_Xt_emd, I2.shape))\n\nI1te = minmax(mat2im(transp_Xs_sinkhorn, I1.shape))\nI2te = minmax(mat2im(transp_Xt_sinkhorn, I2.shape))"
      ]
    },
    {
      "cell_type": "markdown",
      "metadata": {},
      "source": [
        "## Plot new images\n\n"
      ]
    },
    {
      "cell_type": "code",
      "execution_count": null,
      "metadata": {
        "collapsed": false
      },
      "outputs": [],
      "source": [
        "plt.figure(3, figsize=(8, 4))\n\nplt.subplot(2, 3, 1)\nplt.imshow(I1)\nplt.axis('off')\nplt.title('Image 1')\n\nplt.subplot(2, 3, 2)\nplt.imshow(I1t)\nplt.axis('off')\nplt.title('Image 1 Adapt')\n\nplt.subplot(2, 3, 3)\nplt.imshow(I1te)\nplt.axis('off')\nplt.title('Image 1 Adapt (reg)')\n\nplt.subplot(2, 3, 4)\nplt.imshow(I2)\nplt.axis('off')\nplt.title('Image 2')\n\nplt.subplot(2, 3, 5)\nplt.imshow(I2t)\nplt.axis('off')\nplt.title('Image 2 Adapt')\n\nplt.subplot(2, 3, 6)\nplt.imshow(I2te)\nplt.axis('off')\nplt.title('Image 2 Adapt (reg)')\nplt.tight_layout()\n\nplt.show()"
      ]
    }
  ],
  "metadata": {
    "kernelspec": {
      "display_name": "Python 3",
      "language": "python",
      "name": "python3"
    },
    "language_info": {
      "codemirror_mode": {
        "name": "ipython",
        "version": 3
      },
      "file_extension": ".py",
      "mimetype": "text/x-python",
      "name": "python",
      "nbconvert_exporter": "python",
      "pygments_lexer": "ipython3",
      "version": "3.9.16"
    }
  },
  "nbformat": 4,
  "nbformat_minor": 0
}