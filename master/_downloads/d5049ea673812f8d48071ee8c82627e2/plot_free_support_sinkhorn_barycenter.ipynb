{
  "cells": [
    {
      "cell_type": "code",
      "execution_count": null,
      "metadata": {
        "collapsed": false
      },
      "outputs": [],
      "source": [
        "%matplotlib inline"
      ]
    },
    {
      "cell_type": "markdown",
      "metadata": {},
      "source": [
        "\n# 2D free support Sinkhorn barycenters of distributions\n\nIllustration of Sinkhorn barycenter calculation between empirical distributions understood as point clouds\n"
      ]
    },
    {
      "cell_type": "code",
      "execution_count": null,
      "metadata": {
        "collapsed": false
      },
      "outputs": [],
      "source": [
        "# Authors: Eduardo Fernandes Montesuma <eduardo.fernandes-montesuma@universite-paris-saclay.fr>\n#\n# License: MIT License\n\nimport numpy as np\nimport matplotlib.pyplot as plt\nimport ot"
      ]
    },
    {
      "cell_type": "markdown",
      "metadata": {},
      "source": [
        "## General Parameters\n\n"
      ]
    },
    {
      "cell_type": "code",
      "execution_count": null,
      "metadata": {
        "collapsed": false
      },
      "outputs": [],
      "source": [
        "reg = 1e-2  # Entropic Regularization\nnumItermax = 20  # Maximum number of iterations for the Barycenter algorithm\nnumInnerItermax = 50  # Maximum number of sinkhorn iterations\nn_samples = 200"
      ]
    },
    {
      "cell_type": "markdown",
      "metadata": {},
      "source": [
        "## Generate Data\n\n"
      ]
    },
    {
      "cell_type": "code",
      "execution_count": null,
      "metadata": {
        "collapsed": false
      },
      "outputs": [],
      "source": [
        "X1 = np.random.randn(200, 2)\nX2 = 2 * np.concatenate([\n    np.concatenate([- np.ones([50, 1]), np.linspace(-1, 1, 50)[:, None]], axis=1),\n    np.concatenate([np.linspace(-1, 1, 50)[:, None], np.ones([50, 1])], axis=1),\n    np.concatenate([np.ones([50, 1]), np.linspace(1, -1, 50)[:, None]], axis=1),\n    np.concatenate([np.linspace(1, -1, 50)[:, None], - np.ones([50, 1])], axis=1),\n], axis=0)\nX3 = np.random.randn(200, 2)\nX3 = 2 * (X3 / np.linalg.norm(X3, axis=1)[:, None])\nX4 = np.random.multivariate_normal(np.array([0, 0]), np.array([[1., 0.5], [0.5, 1.]]), size=200)\n\na1, a2, a3, a4 = ot.unif(len(X1)), ot.unif(len(X1)), ot.unif(len(X1)), ot.unif(len(X1))"
      ]
    },
    {
      "cell_type": "markdown",
      "metadata": {},
      "source": [
        "## Inspect generated distributions\n\n"
      ]
    },
    {
      "cell_type": "code",
      "execution_count": null,
      "metadata": {
        "collapsed": false
      },
      "outputs": [],
      "source": [
        "fig, axes = plt.subplots(1, 4, figsize=(16, 4))\n\naxes[0].scatter(x=X1[:, 0], y=X1[:, 1], c='steelblue', edgecolor='k')\naxes[1].scatter(x=X2[:, 0], y=X2[:, 1], c='steelblue', edgecolor='k')\naxes[2].scatter(x=X3[:, 0], y=X3[:, 1], c='steelblue', edgecolor='k')\naxes[3].scatter(x=X4[:, 0], y=X4[:, 1], c='steelblue', edgecolor='k')\n\naxes[0].set_xlim([-3, 3])\naxes[0].set_ylim([-3, 3])\naxes[0].set_title('Distribution 1')\n\naxes[1].set_xlim([-3, 3])\naxes[1].set_ylim([-3, 3])\naxes[1].set_title('Distribution 2')\n\naxes[2].set_xlim([-3, 3])\naxes[2].set_ylim([-3, 3])\naxes[2].set_title('Distribution 3')\n\naxes[3].set_xlim([-3, 3])\naxes[3].set_ylim([-3, 3])\naxes[3].set_title('Distribution 4')\n\nplt.tight_layout()\nplt.show()"
      ]
    },
    {
      "cell_type": "markdown",
      "metadata": {},
      "source": [
        "## Interpolating Empirical Distributions\n\n"
      ]
    },
    {
      "cell_type": "code",
      "execution_count": null,
      "metadata": {
        "collapsed": false
      },
      "outputs": [],
      "source": [
        "fig = plt.figure(figsize=(10, 10))\n\nweights = np.array([\n    [3 / 3, 0 / 3],\n    [2 / 3, 1 / 3],\n    [1 / 3, 2 / 3],\n    [0 / 3, 3 / 3],\n]).astype(np.float32)\n\nfor k in range(4):\n    XB_init = np.random.randn(n_samples, 2)\n    XB = ot.bregman.free_support_sinkhorn_barycenter(\n        measures_locations=[X1, X2],\n        measures_weights=[a1, a2],\n        weights=weights[k],\n        X_init=XB_init,\n        reg=reg,\n        numItermax=numItermax,\n        numInnerItermax=numInnerItermax\n    )\n    ax = plt.subplot2grid((4, 4), (0, k))\n    ax.scatter(XB[:, 0], XB[:, 1], color='steelblue', edgecolor='k')\n    ax.set_xlim([-3, 3])\n    ax.set_ylim([-3, 3])\n\nfor k in range(1, 4, 1):\n    XB_init = np.random.randn(n_samples, 2)\n    XB = ot.bregman.free_support_sinkhorn_barycenter(\n        measures_locations=[X1, X3],\n        measures_weights=[a1, a2],\n        weights=weights[k],\n        X_init=XB_init,\n        reg=reg,\n        numItermax=numItermax,\n        numInnerItermax=numInnerItermax\n    )\n    ax = plt.subplot2grid((4, 4), (k, 0))\n    ax.scatter(XB[:, 0], XB[:, 1], color='steelblue', edgecolor='k')\n    ax.set_xlim([-3, 3])\n    ax.set_ylim([-3, 3])\n\nfor k in range(1, 4, 1):\n    XB_init = np.random.randn(n_samples, 2)\n    XB = ot.bregman.free_support_sinkhorn_barycenter(\n        measures_locations=[X3, X4],\n        measures_weights=[a1, a2],\n        weights=weights[k],\n        X_init=XB_init,\n        reg=reg,\n        numItermax=numItermax,\n        numInnerItermax=numInnerItermax\n    )\n    ax = plt.subplot2grid((4, 4), (3, k))\n    ax.scatter(XB[:, 0], XB[:, 1], color='steelblue', edgecolor='k')\n    ax.set_xlim([-3, 3])\n    ax.set_ylim([-3, 3])\n\nfor k in range(1, 3, 1):\n    XB_init = np.random.randn(n_samples, 2)\n    XB = ot.bregman.free_support_sinkhorn_barycenter(\n        measures_locations=[X2, X4],\n        measures_weights=[a1, a2],\n        weights=weights[k],\n        X_init=XB_init,\n        reg=reg,\n        numItermax=numItermax,\n        numInnerItermax=numInnerItermax\n    )\n    ax = plt.subplot2grid((4, 4), (k, 3))\n    ax.scatter(XB[:, 0], XB[:, 1], color='steelblue', edgecolor='k')\n    ax.set_xlim([-3, 3])\n    ax.set_ylim([-3, 3])\n\nplt.show()"
      ]
    }
  ],
  "metadata": {
    "kernelspec": {
      "display_name": "Python 3",
      "language": "python",
      "name": "python3"
    },
    "language_info": {
      "codemirror_mode": {
        "name": "ipython",
        "version": 3
      },
      "file_extension": ".py",
      "mimetype": "text/x-python",
      "name": "python",
      "nbconvert_exporter": "python",
      "pygments_lexer": "ipython3",
      "version": "3.9.15"
    }
  },
  "nbformat": 4,
  "nbformat_minor": 0
}