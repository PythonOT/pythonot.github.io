{
  "cells": [
    {
      "cell_type": "markdown",
      "metadata": {},
      "source": [
        "\n# Sliced OT Plans\n\nCompares different Sliced OT plans between two 2D point clouds. The min-Pivot\nSliced plan was introduced in [82], and the Expected Sliced plan in [84], both\nwere further studied theoretically in [83].\n\n.. [82] Mahey, G., Chapel, L., Gasso, G., Bonet, C., & Courty, N. (2023). Fast Optimal Transport through Sliced Generalized Wasserstein Geodesics. Advances in Neural Information Processing Systems, 36, 35350\u201335385.\n\n.. [83] Tanguy, E., Chapel, L., Delon, J. (2025). Sliced Optimal Transport Plans. arXiv preprint 2506.03661.\n\n.. [84] Liu, X., Diaz Martin, R., Bai Y., Shahbazi A., Thorpe M., Aldroubi A., Kolouri, S. (2024). Expected Sliced Transport Plans. International Conference on Learning Representations.\n"
      ]
    },
    {
      "cell_type": "code",
      "execution_count": null,
      "metadata": {
        "collapsed": false
      },
      "outputs": [],
      "source": [
        "# Author: Eloi Tanguy <eloi.tanguy@math.cnrs.fr>\n# License: MIT License\n\n# sphinx_gallery_thumbnail_number = 1"
      ]
    },
    {
      "cell_type": "markdown",
      "metadata": {},
      "source": [
        "## Setup data and imports\n\n"
      ]
    },
    {
      "cell_type": "code",
      "execution_count": null,
      "metadata": {
        "collapsed": false
      },
      "outputs": [],
      "source": [
        "import numpy as np\nimport ot\nimport matplotlib.pyplot as plt\nfrom ot.sliced import get_random_projections\n\nseed = 0\nnp.random.seed(seed)\nn = 10\nd = 2\nX = np.random.randn(n, 2)\nY = np.random.randn(n, 2) + np.array([5.0, 0.0])[None, :]\nn_proj = 20\nthetas = get_random_projections(d, n_proj).T\nalpha = 0.3"
      ]
    },
    {
      "cell_type": "markdown",
      "metadata": {},
      "source": [
        "## Compute min-Pivot Sliced permutation\n\n"
      ]
    },
    {
      "cell_type": "code",
      "execution_count": null,
      "metadata": {
        "collapsed": false
      },
      "outputs": [],
      "source": [
        "min_perm, min_cost, log_min = ot.min_pivot_sliced(X, Y, thetas, log=True)\nmin_plan = np.zeros((n, n))\nmin_plan[np.arange(n), min_perm] = 1 / n"
      ]
    },
    {
      "cell_type": "markdown",
      "metadata": {},
      "source": [
        "## Compute Expected Sliced Plan\n\n"
      ]
    },
    {
      "cell_type": "code",
      "execution_count": null,
      "metadata": {
        "collapsed": false
      },
      "outputs": [],
      "source": [
        "expected_plan, expected_cost, log_expected = ot.expected_sliced(X, Y, thetas, log=True)"
      ]
    },
    {
      "cell_type": "markdown",
      "metadata": {},
      "source": [
        "## Compute 2-Wasserstein Plan\n\n"
      ]
    },
    {
      "cell_type": "code",
      "execution_count": null,
      "metadata": {
        "collapsed": false
      },
      "outputs": [],
      "source": [
        "a = np.ones(n, device=X.device) / n\ndists = ot.dist(X, Y)\nW2 = ot.emd2(a, a, dists)\nW2_plan = ot.emd(a, a, dists)"
      ]
    },
    {
      "cell_type": "markdown",
      "metadata": {},
      "source": [
        "## Plot resulting assignments\n\n"
      ]
    },
    {
      "cell_type": "code",
      "execution_count": null,
      "metadata": {
        "collapsed": false
      },
      "outputs": [],
      "source": [
        "fig, axs = plt.subplots(2, 3, figsize=(12, 4))\nfig.suptitle(\"Sliced plans comparison\", y=0.95, fontsize=16)\n\n# draw min sliced permutation\naxs[0, 0].set_title(f\"Min Pivot Sliced: cost={min_cost:.2f}\")\nfor i in range(n):\n    axs[0, 0].plot(\n        [X[i, 0], Y[min_perm[i], 0]],\n        [X[i, 1], Y[min_perm[i], 1]],\n        color=\"black\",\n        alpha=alpha,\n        label=\"min-Sliced perm\" if i == 0 else None,\n    )\naxs[1, 0].imshow(min_plan, interpolation=\"nearest\", cmap=\"Blues\")\n\n# draw expected sliced plan\naxs[0, 1].set_title(f\"Expected Sliced: cost={expected_cost:.2f}\")\nfor i in range(n):\n    for j in range(n):\n        w = alpha * expected_plan[i, j].item() * n\n        axs[0, 1].plot(\n            [X[i, 0], Y[j, 0]],\n            [X[i, 1], Y[j, 1]],\n            color=\"black\",\n            alpha=w,\n            label=\"Expected Sliced plan\" if i == 0 and j == 0 else None,\n        )\naxs[1, 1].imshow(expected_plan, interpolation=\"nearest\", cmap=\"Blues\")\n\n# draw W2 plan\naxs[0, 2].set_title(f\"W2: cost={W2:.2f}\")\nfor i in range(n):\n    for j in range(n):\n        w = alpha * W2_plan[i, j].item() * n\n        axs[0, 2].plot(\n            [X[i, 0], Y[j, 0]],\n            [X[i, 1], Y[j, 1]],\n            color=\"black\",\n            alpha=w,\n            label=\"W2 plan\" if i == 0 and j == 0 else None,\n        )\naxs[1, 2].imshow(W2_plan, interpolation=\"nearest\", cmap=\"Blues\")\n\nfor ax in axs[0, :]:\n    ax.scatter(X[:, 0], X[:, 1], label=\"X\")\n    ax.scatter(Y[:, 0], Y[:, 1], label=\"Y\")\n\nfor ax in axs.flatten():\n    ax.set_aspect(\"equal\")\n    ax.set_xticks([])\n    ax.set_yticks([])\n\nfig.tight_layout()"
      ]
    },
    {
      "cell_type": "markdown",
      "metadata": {},
      "source": [
        "Compare Expected Sliced plans with different inverse-temperatures beta\n ------------------------------------\n# As the temperature decreases, ES becomes sparser and approaches minPS\n\n"
      ]
    },
    {
      "cell_type": "code",
      "execution_count": null,
      "metadata": {
        "collapsed": false
      },
      "outputs": [],
      "source": [
        "betas = [0.0, 5.0, 50.0]\nn_plots = len(betas) + 1\nsize = 4\nfig, axs = plt.subplots(2, n_plots, figsize=(size * n_plots, size))\nfig.suptitle(\n    \"Expected Sliced plan varying beta (inverse temperature)\", y=0.95, fontsize=16\n)\nfor beta_idx, beta in enumerate(betas):\n    expected_plan, expected_cost = ot.expected_sliced(X, Y, thetas, beta=beta)\n    print(f\"beta={beta}: cost={expected_cost:.2f}\")\n\n    axs[0, beta_idx].set_title(f\"beta={beta}: cost={expected_cost:.2f}\")\n    for i in range(n):\n        for j in range(n):\n            w = alpha * expected_plan[i, j].item() * n\n            axs[0, beta_idx].plot(\n                [X[i, 0], Y[j, 0]],\n                [X[i, 1], Y[j, 1]],\n                color=\"black\",\n                alpha=w,\n                label=\"Expected Sliced plan\" if i == 0 and j == 0 else None,\n            )\n\n    axs[0, beta_idx].scatter(X[:, 0], X[:, 1], label=\"X\")\n    axs[0, beta_idx].scatter(Y[:, 0], Y[:, 1], label=\"Y\")\n    axs[1, beta_idx].imshow(expected_plan, interpolation=\"nearest\", cmap=\"Blues\")\n\n# draw min sliced permutation (limit when beta -> +inf)\naxs[0, -1].set_title(f\"Min Pivot Sliced: cost={min_cost:.2f}\")\nfor i in range(n):\n    axs[0, -1].plot(\n        [X[i, 0], Y[min_perm[i], 0]],\n        [X[i, 1], Y[min_perm[i], 1]],\n        color=\"black\",\n        alpha=alpha,\n        label=\"min-Sliced perm\" if i == 0 else None,\n    )\naxs[0, -1].scatter(X[:, 0], X[:, 1], label=\"X\")\naxs[0, -1].scatter(Y[:, 0], Y[:, 1], label=\"Y\")\naxs[1, -1].imshow(min_plan, interpolation=\"nearest\", cmap=\"Blues\")\n\nfor ax in axs.flatten():\n    ax.set_aspect(\"equal\")\n    ax.set_xticks([])\n    ax.set_yticks([])\n\nfig.tight_layout()"
      ]
    }
  ],
  "metadata": {
    "kernelspec": {
      "display_name": "Python 3",
      "language": "python",
      "name": "python3"
    },
    "language_info": {
      "codemirror_mode": {
        "name": "ipython",
        "version": 3
      },
      "file_extension": ".py",
      "mimetype": "text/x-python",
      "name": "python",
      "nbconvert_exporter": "python",
      "pygments_lexer": "ipython3",
      "version": "3.10.18"
    }
  },
  "nbformat": 4,
  "nbformat_minor": 0
}