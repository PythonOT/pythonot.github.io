{
  "cells": [
    {
      "cell_type": "markdown",
      "metadata": {},
      "source": [
        "\n# OT Barycenter with Generic Costs Demo\n\nThis example illustrates the computation of an Optimal Transport Barycenter for\na ground cost that is not a power of a norm. We take the example of ground costs\n$c_k(x, y) = \\lambda_k\\|P_k(x)-y\\|_2^2$, where $P_k$ is the\n(non-linear) projection onto a circle k, and $(\\lambda_k)$ are weights. A\nbarycenter is defined ([77]) as a minimiser of the energy $V(\\mu) = \\sum_k\n\\mathcal{T}_{c_k}(\\mu, \\nu_k)$ where $\\mu$ is a candidate barycenter\nmeasure, the measures  $\\nu_k$ are the target measures and\n$\\mathcal{T}_{c_k}$ is the OT cost for ground cost $c_k$. This is an\nexample of the fixed-point barycenter solver introduced in [77] which\ngeneralises [20] and [43].\n\nThe ground barycenter function $B(y_1, ..., y_K) = \\mathrm{argmin}_{x \\in\n\\mathbb{R}^2} \\sum_k \\lambda_k c_k(x, y_k)$ is computed by gradient descent over\n$x$ with Pytorch.\n\nWe compare two algorithms from [77]: the first ([77], Algorithm 2,\n'true_fixed_point' in POT) has convergence guarantees but the iterations may\nincrease in support size and thus require more computational resources. The\nsecond ([77], Algorithm 3, 'L2_barycentric_proj' in POT) is a simplified\nheuristic that imposes a fixed support size for the barycenter and fixed\nweights.\n\nWe initialise both algorithms with a support size of 136, computing a barycenter\nbetween measures with uniform weights and 50 points.\n\n[77] Tanguy, Eloi and Delon, Julie and Gozlan, Natha\u00ebl (2024). Computing\nBarycentres of Measures for Generic Transport Costs. arXiv preprint 2501.04016\n(2024)\n\n[20] Cuturi, M. and Doucet, A. (2014) Fast Computation of Wasserstein\nBarycenters. InternationalConference in Machine Learning\n\n[43] \u00c1lvarez-Esteban, Pedro C., et al. A fixed-point approach to barycenters in\nWasserstein space. Journal of Mathematical Analysis and Applications 441.2\n(2016): 744-762.\n"
      ]
    },
    {
      "cell_type": "code",
      "execution_count": null,
      "metadata": {
        "collapsed": false
      },
      "outputs": [],
      "source": [
        "# Author: Eloi Tanguy <eloi.tanguy@math.cnrs.fr>\n#\n# License: MIT License\n\n# sphinx_gallery_thumbnail_number = 1"
      ]
    },
    {
      "cell_type": "markdown",
      "metadata": {},
      "source": [
        "Generate data\n\n"
      ]
    },
    {
      "cell_type": "code",
      "execution_count": null,
      "metadata": {
        "collapsed": false
      },
      "outputs": [],
      "source": [
        "import torch\nfrom torch.optim import Adam\nfrom ot.utils import dist\nimport numpy as np\nfrom ot.lp import free_support_barycenter_generic_costs\nimport matplotlib.pyplot as plt\nfrom time import time\n\n\ntorch.manual_seed(42)\n\nn = 136  # number of points of the barycentre\nd = 2  # dimensions of the original measure\nK = 4  # number of measures to barycentre\nm_list = [49, 50, 51, 51]  # number of points of the measures\nb_list = [torch.ones(m) / m for m in m_list]  # weights of the 4 measures\nweights = torch.ones(K) / K  # weights for the barycentre\nstop_threshold = 1e-20  # stop threshold for B and for fixed-point algo\n\n\n# map R^2 -> R^2 projection onto circle\ndef proj_circle(X, origin, radius):\n    diffs = X - origin[None, :]\n    norms = torch.norm(diffs, dim=1)\n    return origin[None, :] + radius * diffs / norms[:, None]\n\n\n# circles on which to project\norigin1 = torch.tensor([-1.0, -1.0])\norigin2 = torch.tensor([-1.0, 2.0])\norigin3 = torch.tensor([2.0, 2.0])\norigin4 = torch.tensor([2.0, -1.0])\nr = np.sqrt(2)\nP_list = [\n    lambda X: proj_circle(X, origin1, r),\n    lambda X: proj_circle(X, origin2, r),\n    lambda X: proj_circle(X, origin3, r),\n    lambda X: proj_circle(X, origin4, r),\n]\n\n# measures to barycentre are projections of different random circles\n# onto the K circles\nY_list = []\nfor k in range(K):\n    t = torch.rand(m_list[k]) * 2 * np.pi\n    X_temp = 0.5 * torch.stack([torch.cos(t), torch.sin(t)], axis=1)\n    X_temp = X_temp + torch.tensor([0.5, 0.5])[None, :]\n    Y_list.append(P_list[k](X_temp))"
      ]
    },
    {
      "cell_type": "markdown",
      "metadata": {},
      "source": [
        "Define costs and ground barycenter function\ncost_list[k] is a function taking x (n, d) and y (n_k, d_k) and returning a\n(n, n_k) matrix of costs\n\n"
      ]
    },
    {
      "cell_type": "code",
      "execution_count": null,
      "metadata": {
        "collapsed": false
      },
      "outputs": [],
      "source": [
        "def c1(x, y):\n    return dist(P_list[0](x), y)\n\n\ndef c2(x, y):\n    return dist(P_list[1](x), y)\n\n\ndef c3(x, y):\n    return dist(P_list[2](x), y)\n\n\ndef c4(x, y):\n    return dist(P_list[3](x), y)\n\n\ncost_list = [c1, c2, c3, c4]\n\n\n# batched total ground cost function for candidate points x (n, d)\n# for computation of the ground barycenter B with gradient descent\ndef C(x, y):\n    \"\"\"\n    Computes the barycenter cost for candidate points x (n, d) and\n    measure supports y: List(n, d_k).\n    \"\"\"\n    n = x.shape[0]\n    K = len(y)\n    out = torch.zeros(n)\n    for k in range(K):\n        out += (1 / K) * torch.sum((P_list[k](x) - y[k]) ** 2, axis=1)\n    return out\n\n\n# ground barycenter function\ndef B(y, its=150, lr=1, stop_threshold=stop_threshold):\n    \"\"\"\n    Computes the ground barycenter for measure supports y: List(n, d_k).\n    Output: (n, d) array\n    \"\"\"\n    x = torch.randn(y[0].shape[0], d)\n    x.requires_grad_(True)\n    opt = Adam([x], lr=lr)\n    for _ in range(its):\n        x_prev = x.data.clone()\n        opt.zero_grad()\n        loss = torch.sum(C(x, y))\n        loss.backward()\n        opt.step()\n        diff = torch.sum((x.data - x_prev) ** 2)\n        if diff < stop_threshold:\n            break\n    return x"
      ]
    },
    {
      "cell_type": "markdown",
      "metadata": {},
      "source": [
        "Compute the barycenter measure with the true fixed-point algorithm\n\n"
      ]
    },
    {
      "cell_type": "code",
      "execution_count": null,
      "metadata": {
        "collapsed": false
      },
      "outputs": [],
      "source": [
        "fixed_point_its = 5\ntorch.manual_seed(42)\nX_init = torch.rand(n, d)\nt0 = time()\nX_bar, a_bar, log_dict = free_support_barycenter_generic_costs(\n    Y_list,\n    b_list,\n    X_init,\n    cost_list,\n    B,\n    numItermax=fixed_point_its,\n    stopThr=stop_threshold,\n    method=\"true_fixed_point\",\n    log=True,\n    clean_measure=True,\n)\ndt_true_fixed_point = time() - t0"
      ]
    },
    {
      "cell_type": "markdown",
      "metadata": {},
      "source": [
        "Compute the barycenter measure with the barycentric (default) algorithm\n\n"
      ]
    },
    {
      "cell_type": "code",
      "execution_count": null,
      "metadata": {
        "collapsed": false
      },
      "outputs": [],
      "source": [
        "fixed_point_its = 5\ntorch.manual_seed(42)\nX_init = torch.rand(n, d)\nt0 = time()\nX_bar2, log_dict2 = free_support_barycenter_generic_costs(\n    Y_list,\n    b_list,\n    X_init,\n    cost_list,\n    B,\n    numItermax=fixed_point_its,\n    stopThr=stop_threshold,\n    log=True,\n)\ndt_barycentric = time() - t0"
      ]
    },
    {
      "cell_type": "markdown",
      "metadata": {},
      "source": [
        "Plot Barycenters (Iteration 3)\n\n"
      ]
    },
    {
      "cell_type": "code",
      "execution_count": null,
      "metadata": {
        "collapsed": false
      },
      "outputs": [],
      "source": [
        "alpha = 0.4\ns = 80\nlabels = [\"circle 1\", \"circle 2\", \"circle 3\", \"circle 4\"]\n\nfig, axes = plt.subplots(1, 2, figsize=(12, 6))\n\n# Plot for the true fixed-point algorithm\nfor Y, label in zip(Y_list, labels):\n    axes[0].scatter(*(Y.numpy()).T, alpha=alpha, label=label, s=s)\naxes[0].scatter(\n    *(X_bar.detach().numpy()).T,\n    label=\"Barycenter\",\n    c=\"black\",\n    alpha=alpha * a_bar.numpy() / np.max(a_bar.numpy()),\n    s=s,\n)\naxes[0].set_title(\n    \"True Fixed-Point Algorithm\\n\"\n    f\"Support size: {a_bar.shape[0]}\\n\"\n    f\"Barycenter cost: {log_dict['V_list'][-1].item():.6f}\\n\"\n    f\"Computation time {dt_true_fixed_point:.4f}s\"\n)\naxes[0].axis(\"equal\")\naxes[0].axis(\"off\")\naxes[0].legend()\n\n# Plot for the heuristic algorithm\nfor Y, label in zip(Y_list, labels):\n    axes[1].scatter(*(Y.numpy()).T, alpha=alpha, label=label, s=s)\naxes[1].scatter(\n    *(X_bar2.detach().numpy()).T, label=\"Barycenter\", c=\"black\", alpha=alpha, s=s\n)\naxes[1].set_title(\n    \"Heuristic Barycentric Algorithm\\n\"\n    f\"Support size: {X_bar2.shape[0]}\\n\"\n    f\"Barycenter cost: {log_dict2['V_list'][-1].item():.6f}\\n\"\n    f\"Computation time {dt_barycentric:.4f}s\"\n)\naxes[1].axis(\"equal\")\naxes[1].axis(\"off\")\naxes[1].legend()\n\nplt.tight_layout()"
      ]
    },
    {
      "cell_type": "markdown",
      "metadata": {},
      "source": [
        "Plot energy convergence and support sizes\n\n"
      ]
    },
    {
      "cell_type": "code",
      "execution_count": null,
      "metadata": {
        "collapsed": false
      },
      "outputs": [],
      "source": [
        "size = 3\nn_plots = 4\nfig, axes = plt.subplots(1, n_plots, figsize=(size * n_plots, size))\nV_list = [V.item() for V in log_dict[\"V_list\"]]\nV_list2 = [V.item() for V in log_dict2[\"V_list\"]]\ndiff = np.array(V_list2) - np.array(V_list)\n\n# Plot for True Fixed-Point Algorithm\naxes[0].plot(V_list, lw=5, alpha=0.6)\naxes[0].scatter(range(len(V_list)), V_list, color=\"blue\", alpha=0.8, s=100)\naxes[0].set_title(\"True Fixed-Point Algorithm\")\naxes[0].set_xlabel(\"Iteration\")\naxes[0].set_ylabel(\"Barycenter Energy\")\naxes[0].set_yscale(\"log\")\naxes[0].xaxis.set_major_locator(plt.MaxNLocator(integer=True))\n\n# Plot for Heuristic Barycentric Algorithm\naxes[1].plot(V_list2, lw=5, alpha=0.6)\naxes[1].scatter(range(len(V_list2)), V_list2, color=\"blue\", alpha=0.8, s=100)\naxes[1].set_title(\"Heuristic Barycentric Algorithm\")\naxes[1].set_xlabel(\"Iteration\")\naxes[1].set_ylabel(\"Barycenter Energy\")\naxes[1].set_yscale(\"log\")\naxes[1].xaxis.set_major_locator(plt.MaxNLocator(integer=True))\n\n# Plot difference between the two\naxes[2].plot(diff, lw=5, alpha=0.6)\naxes[2].scatter(range(len(diff)), diff, color=\"blue\", alpha=0.8, s=100)\naxes[2].set_title(\"Heuristic Fixed-Point Energy - True\")\naxes[2].set_xlabel(\"Iteration\")\naxes[2].set_ylabel(\"$V_{\\\\mathrm{heuristic}} - V_{\\\\mathrm{true}}$\")\naxes[2].set_yscale(\"log\")\naxes[2].xaxis.set_major_locator(plt.MaxNLocator(integer=True))\n\n# plot support sizes\nsupport_sizes = [Xi.shape[0] for Xi in log_dict[\"X_list\"]]\nsupport_sizes2 = [Xi.shape[0] for Xi in log_dict2[\"X_list\"]]\n\naxes[3].plot(support_sizes, color=\"C0\", lw=5, alpha=0.6, label=\"True FP\")\naxes[3].scatter(\n    range(len(support_sizes)), support_sizes, color=\"blue\", alpha=0.8, s=100\n)\naxes[3].plot(support_sizes2, color=\"red\", lw=5, alpha=0.6, label=\"Heur. FP\")\naxes[3].scatter(\n    range(len(support_sizes2)), support_sizes2, color=\"red\", alpha=0.8, s=100\n)\naxes[3].legend(loc=\"best\")\naxes[3].set_xlabel(\"Iteration\")\naxes[3].xaxis.set_major_locator(plt.MaxNLocator(integer=True))\naxes[3].set_title(\"Support Sizes\")\n\nplt.tight_layout()\nplt.show()"
      ]
    }
  ],
  "metadata": {
    "kernelspec": {
      "display_name": "Python 3",
      "language": "python",
      "name": "python3"
    },
    "language_info": {
      "codemirror_mode": {
        "name": "ipython",
        "version": 3
      },
      "file_extension": ".py",
      "mimetype": "text/x-python",
      "name": "python",
      "nbconvert_exporter": "python",
      "pygments_lexer": "ipython3",
      "version": "3.10.18"
    }
  },
  "nbformat": 4,
  "nbformat_minor": 0
}