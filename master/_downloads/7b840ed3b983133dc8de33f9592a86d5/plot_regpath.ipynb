{
  "cells": [
    {
      "cell_type": "code",
      "execution_count": null,
      "metadata": {
        "collapsed": false
      },
      "outputs": [],
      "source": [
        "%matplotlib inline"
      ]
    },
    {
      "cell_type": "markdown",
      "metadata": {},
      "source": [
        "\n# Regularization path of l2-penalized unbalanced optimal transport\nThis example illustrate the regularization path for 2D unbalanced\noptimal transport. We present here both the fully relaxed case\nand the semi-relaxed case.\n\n[Chapel et al., 2021] Chapel, L., Flamary, R., Wu, H., F\u00e9votte, C.,\nand Gasso, G. (2021). Unbalanced optimal transport through non-negative\npenalized linear regression.\n"
      ]
    },
    {
      "cell_type": "code",
      "execution_count": null,
      "metadata": {
        "collapsed": false
      },
      "outputs": [],
      "source": [
        "# Author: Haoran Wu <haoran.wu@univ-ubs.fr>\n# License: MIT License\n\n\nimport numpy as np\nimport matplotlib.pylab as pl\nimport ot"
      ]
    },
    {
      "cell_type": "markdown",
      "metadata": {},
      "source": [
        "## Generate data\n\n"
      ]
    },
    {
      "cell_type": "code",
      "execution_count": null,
      "metadata": {
        "collapsed": false
      },
      "outputs": [],
      "source": [
        "n = 50  # nb samples\n\nmu_s = np.array([-1, -1])\ncov_s = np.array([[1, 0], [0, 1]])\n\nmu_t = np.array([4, 4])\ncov_t = np.array([[1, -.8], [-.8, 1]])\n\nnp.random.seed(0)\nxs = ot.datasets.make_2D_samples_gauss(n, mu_s, cov_s)\nxt = ot.datasets.make_2D_samples_gauss(n, mu_t, cov_t)\n\na, b = np.ones((n,)) / n, np.ones((n,)) / n  # uniform distribution on samples\n\n# loss matrix\nM = ot.dist(xs, xt)\nM /= M.max()"
      ]
    },
    {
      "cell_type": "markdown",
      "metadata": {},
      "source": [
        "## Plot data\n\n"
      ]
    },
    {
      "cell_type": "code",
      "execution_count": null,
      "metadata": {
        "collapsed": false
      },
      "outputs": [],
      "source": [
        "pl.figure(1)\npl.scatter(xs[:, 0], xs[:, 1], c='C0', label='Source')\npl.scatter(xt[:, 0], xt[:, 1], c='C1', label='Target')\npl.legend(loc=2)\npl.title('Source and target distributions')\npl.show()"
      ]
    },
    {
      "cell_type": "markdown",
      "metadata": {},
      "source": [
        "## Compute semi-relaxed and fully relaxed regularization paths\n\n"
      ]
    },
    {
      "cell_type": "code",
      "execution_count": null,
      "metadata": {
        "collapsed": false
      },
      "outputs": [],
      "source": [
        "final_gamma = 1e-8\nt, t_list, g_list = ot.regpath.regularization_path(a, b, M, reg=final_gamma,\n                                                   semi_relaxed=False)\nt2, t_list2, g_list2 = ot.regpath.regularization_path(a, b, M, reg=final_gamma,\n                                                      semi_relaxed=True)"
      ]
    },
    {
      "cell_type": "markdown",
      "metadata": {},
      "source": [
        "## Plot the regularization path\n\n"
      ]
    },
    {
      "cell_type": "code",
      "execution_count": null,
      "metadata": {
        "collapsed": false
      },
      "outputs": [],
      "source": [
        "pl.figure(2)\nselected_gamma = [2e-1, 1e-1, 5e-2, 1e-3]\nfor p in range(4):\n    tp = ot.regpath.compute_transport_plan(selected_gamma[p], g_list,\n                                           t_list)\n    P = tp.reshape((n, n))\n    pl.subplot(2, 2, p + 1)\n    if P.sum() > 0:\n        P = P / P.max()\n    for i in range(n):\n        for j in range(n):\n            if P[i, j] > 0:\n                pl.plot([xs[i, 0], xt[j, 0]], [xs[i, 1], xt[j, 1]], color='C2',\n                        alpha=P[i, j] * 0.3)\n    pl.scatter(xs[:, 0], xs[:, 1], c='C0', alpha=0.2)\n    pl.scatter(xt[:, 0], xt[:, 1], c='C1', alpha=0.2)\n    pl.scatter(xs[:, 0], xs[:, 1], c='C0', s=P.sum(1).ravel() * (1 + p) * 2,\n               label='Re-weighted source', alpha=1)\n    pl.scatter(xt[:, 0], xt[:, 1], c='C1', s=P.sum(0).ravel() * (1 + p) * 2,\n               label='Re-weighted target', alpha=1)\n    pl.plot([], [], color='C2', alpha=0.8, label='OT plan')\n    pl.title(r'$\\ell_2$ UOT $\\gamma$={}'.format(selected_gamma[p]),\n             fontsize=11)\n    if p < 2:\n        pl.xticks(())\npl.show()"
      ]
    },
    {
      "cell_type": "markdown",
      "metadata": {},
      "source": [
        "## Plot the semi-relaxed regularization path\n\n"
      ]
    },
    {
      "cell_type": "code",
      "execution_count": null,
      "metadata": {
        "collapsed": false
      },
      "outputs": [],
      "source": [
        "pl.figure(3)\nselected_gamma = [10, 1, 1e-1, 1e-2]\nfor p in range(4):\n    tp = ot.regpath.compute_transport_plan(selected_gamma[p], g_list2,\n                                           t_list2)\n    P = tp.reshape((n, n))\n    pl.subplot(2, 2, p + 1)\n    if P.sum() > 0:\n        P = P / P.max()\n    for i in range(n):\n        for j in range(n):\n            if P[i, j] > 0:\n                pl.plot([xs[i, 0], xt[j, 0]], [xs[i, 1], xt[j, 1]], color='C2',\n                        alpha=P[i, j] * 0.3)\n    pl.scatter(xs[:, 0], xs[:, 1], c='C0', alpha=0.2)\n    pl.scatter(xt[:, 0], xt[:, 1], c='C1', alpha=1, label='Target marginal')\n    pl.scatter(xs[:, 0], xs[:, 1], c='C0', s=P.sum(1).ravel() * 2 * (1 + p),\n               label='Source marginal', alpha=1)\n    pl.plot([], [], color='C2', alpha=0.8, label='OT plan')\n    pl.title(r'Semi-relaxed $l_2$ UOT $\\gamma$={}'.format(selected_gamma[p]),\n             fontsize=11)\n    if p < 2:\n        pl.xticks(())\npl.show()"
      ]
    }
  ],
  "metadata": {
    "kernelspec": {
      "display_name": "Python 3",
      "language": "python",
      "name": "python3"
    },
    "language_info": {
      "codemirror_mode": {
        "name": "ipython",
        "version": 3
      },
      "file_extension": ".py",
      "mimetype": "text/x-python",
      "name": "python",
      "nbconvert_exporter": "python",
      "pygments_lexer": "ipython3",
      "version": "3.9.12"
    }
  },
  "nbformat": 4,
  "nbformat_minor": 0
}