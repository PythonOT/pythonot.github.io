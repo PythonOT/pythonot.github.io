{
  "cells": [
    {
      "cell_type": "code",
      "execution_count": null,
      "metadata": {
        "collapsed": false
      },
      "outputs": [],
      "source": [
        "%matplotlib inline"
      ]
    },
    {
      "cell_type": "markdown",
      "metadata": {},
      "source": [
        "\n# Linear OT mapping estimation\n"
      ]
    },
    {
      "cell_type": "code",
      "execution_count": null,
      "metadata": {
        "collapsed": false
      },
      "outputs": [],
      "source": [
        "# Author: Remi Flamary <remi.flamary@unice.fr>\n#\n# License: MIT License\n\n# sphinx_gallery_thumbnail_number = 2\nimport os\nfrom pathlib import Path\n\nimport numpy as np\nfrom matplotlib import pyplot as plt\nimport ot"
      ]
    },
    {
      "cell_type": "markdown",
      "metadata": {},
      "source": [
        "## Generate data\n\n"
      ]
    },
    {
      "cell_type": "code",
      "execution_count": null,
      "metadata": {
        "collapsed": false
      },
      "outputs": [],
      "source": [
        "n = 1000\nd = 2\nsigma = .1\n\nrng = np.random.RandomState(42)\n\n# source samples\nangles = rng.rand(n, 1) * 2 * np.pi\nxs = np.concatenate((np.sin(angles), np.cos(angles)),\n                    axis=1) + sigma * rng.randn(n, 2)\nxs[:n // 2, 1] += 2\n\n\n# target samples\nanglet = rng.rand(n, 1) * 2 * np.pi\nxt = np.concatenate((np.sin(anglet), np.cos(anglet)),\n                    axis=1) + sigma * rng.randn(n, 2)\nxt[:n // 2, 1] += 2\n\n\nA = np.array([[1.5, .7], [.7, 1.5]])\nb = np.array([[4, 2]])\nxt = xt.dot(A) + b"
      ]
    },
    {
      "cell_type": "markdown",
      "metadata": {},
      "source": [
        "## Plot data\n\n"
      ]
    },
    {
      "cell_type": "code",
      "execution_count": null,
      "metadata": {
        "collapsed": false
      },
      "outputs": [],
      "source": [
        "plt.figure(1, (5, 5))\nplt.plot(xs[:, 0], xs[:, 1], '+')\nplt.plot(xt[:, 0], xt[:, 1], 'o')"
      ]
    },
    {
      "cell_type": "markdown",
      "metadata": {},
      "source": [
        "## Estimate linear mapping and transport\n\n"
      ]
    },
    {
      "cell_type": "code",
      "execution_count": null,
      "metadata": {
        "collapsed": false
      },
      "outputs": [],
      "source": [
        "Ae, be = ot.gaussian.empirical_bures_wasserstein_mapping(xs, xt)\n\nxst = xs.dot(Ae) + be"
      ]
    },
    {
      "cell_type": "markdown",
      "metadata": {},
      "source": [
        "## Plot transported samples\n\n"
      ]
    },
    {
      "cell_type": "code",
      "execution_count": null,
      "metadata": {
        "collapsed": false
      },
      "outputs": [],
      "source": [
        "plt.figure(1, (5, 5))\nplt.clf()\nplt.plot(xs[:, 0], xs[:, 1], '+')\nplt.plot(xt[:, 0], xt[:, 1], 'o')\nplt.plot(xst[:, 0], xst[:, 1], '+')\n\nplt.show()"
      ]
    },
    {
      "cell_type": "markdown",
      "metadata": {},
      "source": [
        "## Load image data\n\n"
      ]
    },
    {
      "cell_type": "code",
      "execution_count": null,
      "metadata": {
        "collapsed": false
      },
      "outputs": [],
      "source": [
        "def im2mat(img):\n    \"\"\"Converts and image to matrix (one pixel per line)\"\"\"\n    return img.reshape((img.shape[0] * img.shape[1], img.shape[2]))\n\n\ndef mat2im(X, shape):\n    \"\"\"Converts back a matrix to an image\"\"\"\n    return X.reshape(shape)\n\n\ndef minmax(img):\n    return np.clip(img, 0, 1)\n\n\n# Loading images\nthis_file = os.path.realpath('__file__')\ndata_path = os.path.join(Path(this_file).parent.parent.parent, 'data')\n\nI1 = plt.imread(os.path.join(data_path, 'ocean_day.jpg')).astype(np.float64) / 256\nI2 = plt.imread(os.path.join(data_path, 'ocean_sunset.jpg')).astype(np.float64) / 256\n\n\nX1 = im2mat(I1)\nX2 = im2mat(I2)"
      ]
    },
    {
      "cell_type": "markdown",
      "metadata": {},
      "source": [
        "## Estimate mapping and adapt\n\n"
      ]
    },
    {
      "cell_type": "code",
      "execution_count": null,
      "metadata": {
        "collapsed": false
      },
      "outputs": [],
      "source": [
        "mapping = ot.da.LinearTransport()\n\nmapping.fit(Xs=X1, Xt=X2)\n\n\nxst = mapping.transform(Xs=X1)\nxts = mapping.inverse_transform(Xt=X2)\n\nI1t = minmax(mat2im(xst, I1.shape))\nI2t = minmax(mat2im(xts, I2.shape))"
      ]
    },
    {
      "cell_type": "markdown",
      "metadata": {},
      "source": [
        "## Plot transformed images\n\n"
      ]
    },
    {
      "cell_type": "code",
      "execution_count": null,
      "metadata": {
        "collapsed": false
      },
      "outputs": [],
      "source": [
        "plt.figure(2, figsize=(10, 7))\n\nplt.subplot(2, 2, 1)\nplt.imshow(I1)\nplt.axis('off')\nplt.title('Im. 1')\n\nplt.subplot(2, 2, 2)\nplt.imshow(I2)\nplt.axis('off')\nplt.title('Im. 2')\n\nplt.subplot(2, 2, 3)\nplt.imshow(I1t)\nplt.axis('off')\nplt.title('Mapping Im. 1')\n\nplt.subplot(2, 2, 4)\nplt.imshow(I2t)\nplt.axis('off')\nplt.title('Inverse mapping Im. 2')"
      ]
    }
  ],
  "metadata": {
    "kernelspec": {
      "display_name": "Python 3",
      "language": "python",
      "name": "python3"
    },
    "language_info": {
      "codemirror_mode": {
        "name": "ipython",
        "version": 3
      },
      "file_extension": ".py",
      "mimetype": "text/x-python",
      "name": "python",
      "nbconvert_exporter": "python",
      "pygments_lexer": "ipython3",
      "version": "3.9.16"
    }
  },
  "nbformat": 4,
  "nbformat_minor": 0
}