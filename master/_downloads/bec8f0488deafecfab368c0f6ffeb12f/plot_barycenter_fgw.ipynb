{
  "cells": [
    {
      "cell_type": "markdown",
      "metadata": {},
      "source": [
        "\n# Barycenter of labeled graphs with FGW\n\nThis example illustrates the computation barycenter of labeled graphs using\nFGW [18].\n\nRequires networkx >=2\n\n[18] Vayer Titouan, Chapel Laetitia, Flamary R\u00e9mi, Tavenard Romain\nand Courty Nicolas\n\"Optimal Transport for structured data with application on graphs\"\nInternational Conference on Machine Learning (ICML). 2019.\n"
      ]
    },
    {
      "cell_type": "code",
      "execution_count": null,
      "metadata": {
        "collapsed": false
      },
      "outputs": [],
      "source": [
        "# Author: Titouan Vayer <titouan.vayer@irisa.fr>\n#\n# License: MIT License"
      ]
    },
    {
      "cell_type": "code",
      "execution_count": null,
      "metadata": {
        "collapsed": false
      },
      "outputs": [],
      "source": [
        "import numpy as np\nimport matplotlib.pyplot as plt\nimport networkx as nx\nimport math\nfrom scipy.sparse.csgraph import shortest_path\nimport matplotlib.colors as mcol\nfrom matplotlib import cm\nfrom ot.gromov import fgw_barycenters"
      ]
    },
    {
      "cell_type": "code",
      "execution_count": null,
      "metadata": {
        "collapsed": false
      },
      "outputs": [],
      "source": [
        "def find_thresh(C, inf=0.5, sup=3, step=10):\n    \"\"\"Trick to find the adequate thresholds from where value of the C matrix are considered close enough to say that nodes are connected\n        The threshold is found by a linesearch between values \"inf\" and \"sup\" with \"step\" thresholds tested.\n        The optimal threshold is the one which minimizes the reconstruction error between the shortest_path matrix coming from the thresholded adjacency matrix\n        and the original matrix.\n    Parameters\n    ----------\n    C : ndarray, shape (n_nodes,n_nodes)\n            The structure matrix to threshold\n    inf : float\n          The beginning of the linesearch\n    sup : float\n          The end of the linesearch\n    step : integer\n            Number of thresholds tested\n    \"\"\"\n    dist = []\n    search = np.linspace(inf, sup, step)\n    for thresh in search:\n        Cprime = sp_to_adjacency(C, 0, thresh)\n        SC = shortest_path(Cprime, method=\"D\")\n        SC[SC == float(\"inf\")] = 100\n        dist.append(np.linalg.norm(SC - C))\n    return search[np.argmin(dist)], dist\n\n\ndef sp_to_adjacency(C, threshinf=0.2, threshsup=1.8):\n    \"\"\"Thresholds the structure matrix in order to compute an adjacency matrix.\n    All values between threshinf and threshsup are considered representing connected nodes and set to 1. Else are set to 0\n    Parameters\n    ----------\n    C : ndarray, shape (n_nodes,n_nodes)\n        The structure matrix to threshold\n    threshinf : float\n        The minimum value of distance from which the new value is set to 1\n    threshsup : float\n        The maximum value of distance from which the new value is set to 1\n    Returns\n    -------\n    C : ndarray, shape (n_nodes,n_nodes)\n        The threshold matrix. Each element is in {0,1}\n    \"\"\"\n    H = np.zeros_like(C)\n    np.fill_diagonal(H, np.diagonal(C))\n    C = C - H\n    C = np.minimum(np.maximum(C, threshinf), threshsup)\n    C[C == threshsup] = 0\n    C[C != 0] = 1\n\n    return C\n\n\ndef build_noisy_circular_graph(\n    N=20, mu=0, sigma=0.3, with_noise=False, structure_noise=False, p=None\n):\n    \"\"\"Create a noisy circular graph\"\"\"\n    g = nx.Graph()\n    g.add_nodes_from(list(range(N)))\n    for i in range(N):\n        noise = np.random.normal(mu, sigma, 1)[0]\n        if with_noise:\n            g.add_node(i, attr_name=math.sin((2 * i * math.pi / N)) + noise)\n        else:\n            g.add_node(i, attr_name=math.sin(2 * i * math.pi / N))\n        g.add_edge(i, i + 1)\n        if structure_noise:\n            randomint = np.random.randint(0, p)\n            if randomint == 0:\n                if i <= N - 3:\n                    g.add_edge(i, i + 2)\n                if i == N - 2:\n                    g.add_edge(i, 0)\n                if i == N - 1:\n                    g.add_edge(i, 1)\n    g.add_edge(N, 0)\n    noise = np.random.normal(mu, sigma, 1)[0]\n    if with_noise:\n        g.add_node(N, attr_name=math.sin((2 * N * math.pi / N)) + noise)\n    else:\n        g.add_node(N, attr_name=math.sin(2 * N * math.pi / N))\n    return g\n\n\ndef graph_colors(nx_graph, vmin=0, vmax=7):\n    cnorm = mcol.Normalize(vmin=vmin, vmax=vmax)\n    cpick = cm.ScalarMappable(norm=cnorm, cmap=\"viridis\")\n    cpick.set_array([])\n    val_map = {}\n    for k, v in nx.get_node_attributes(nx_graph, \"attr_name\").items():\n        val_map[k] = cpick.to_rgba(v)\n    colors = []\n    for node in nx_graph.nodes():\n        colors.append(val_map[node])\n    return colors"
      ]
    },
    {
      "cell_type": "markdown",
      "metadata": {},
      "source": [
        "## Generate data\n\n"
      ]
    },
    {
      "cell_type": "markdown",
      "metadata": {},
      "source": [
        "We build a dataset of noisy circular graphs.\nNoise is added on the structures by random connections and on the features by gaussian noise.\n\n"
      ]
    },
    {
      "cell_type": "code",
      "execution_count": null,
      "metadata": {
        "collapsed": false
      },
      "outputs": [],
      "source": [
        "np.random.seed(30)\nX0 = []\nfor k in range(9):\n    X0.append(\n        build_noisy_circular_graph(\n            np.random.randint(15, 25), with_noise=True, structure_noise=True, p=3\n        )\n    )"
      ]
    },
    {
      "cell_type": "markdown",
      "metadata": {},
      "source": [
        "## Plot data\n\n"
      ]
    },
    {
      "cell_type": "code",
      "execution_count": null,
      "metadata": {
        "collapsed": false
      },
      "outputs": [],
      "source": [
        "plt.figure(figsize=(8, 10))\nfor i in range(len(X0)):\n    plt.subplot(3, 3, i + 1)\n    g = X0[i]\n    pos = nx.kamada_kawai_layout(g)\n    nx.draw_networkx(\n        g,\n        pos=pos,\n        node_color=graph_colors(g, vmin=-1, vmax=1),\n        with_labels=False,\n        node_size=100,\n    )\nplt.suptitle(\"Dataset of noisy graphs. Color indicates the label\", fontsize=20)\nplt.show()"
      ]
    },
    {
      "cell_type": "markdown",
      "metadata": {},
      "source": [
        "## Barycenter computation\n\n"
      ]
    },
    {
      "cell_type": "markdown",
      "metadata": {},
      "source": [
        "Features distances are the euclidean distances\n\n"
      ]
    },
    {
      "cell_type": "code",
      "execution_count": null,
      "metadata": {
        "collapsed": false
      },
      "outputs": [],
      "source": [
        "Cs = [shortest_path(nx.adjacency_matrix(x).toarray()) for x in X0]\nps = [np.ones(len(x.nodes())) / len(x.nodes()) for x in X0]\nYs = [\n    np.array([v for (k, v) in nx.get_node_attributes(x, \"attr_name\").items()]).reshape(\n        -1, 1\n    )\n    for x in X0\n]\nlambdas = np.array([np.ones(len(Ys)) / len(Ys)]).ravel()\nsizebary = 15  # we choose a barycenter with 15 nodes\n\nA, C, log = fgw_barycenters(sizebary, Ys, Cs, ps, lambdas, alpha=0.95, log=True)"
      ]
    },
    {
      "cell_type": "markdown",
      "metadata": {},
      "source": [
        "## Plot Barycenter\n\n"
      ]
    },
    {
      "cell_type": "code",
      "execution_count": null,
      "metadata": {
        "collapsed": false
      },
      "outputs": [],
      "source": [
        "bary = nx.from_numpy_array(\n    sp_to_adjacency(C, threshinf=0, threshsup=find_thresh(C, sup=100, step=100)[0])\n)\nfor i, v in enumerate(A.ravel()):\n    bary.add_node(i, attr_name=v)"
      ]
    },
    {
      "cell_type": "code",
      "execution_count": null,
      "metadata": {
        "collapsed": false
      },
      "outputs": [],
      "source": [
        "pos = nx.kamada_kawai_layout(bary)\nnx.draw_networkx(\n    bary, pos=pos, node_color=graph_colors(bary, vmin=-1, vmax=1), with_labels=False\n)\nplt.suptitle(\"Barycenter\", fontsize=20)\nplt.show()"
      ]
    }
  ],
  "metadata": {
    "kernelspec": {
      "display_name": "Python 3",
      "language": "python",
      "name": "python3"
    },
    "language_info": {
      "codemirror_mode": {
        "name": "ipython",
        "version": 3
      },
      "file_extension": ".py",
      "mimetype": "text/x-python",
      "name": "python",
      "nbconvert_exporter": "python",
      "pygments_lexer": "ipython3",
      "version": "3.10.18"
    }
  },
  "nbformat": 4,
  "nbformat_minor": 0
}